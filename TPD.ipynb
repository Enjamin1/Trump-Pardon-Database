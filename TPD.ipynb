{
  "nbformat": 4,
  "nbformat_minor": 0,
  "metadata": {
    "colab": {
      "name": "Untitled1.ipynb",
      "provenance": [],
      "authorship_tag": "ABX9TyPo4rr6Gt9RtHNhHc2yoT7S",
      "include_colab_link": true
    },
    "kernelspec": {
      "name": "python3",
      "display_name": "Python 3"
    }
  },
  "cells": [
    {
      "cell_type": "markdown",
      "metadata": {
        "id": "view-in-github",
        "colab_type": "text"
      },
      "source": [
        "<a href=\"https://colab.research.google.com/github/Enjamin1/Trump-Pardon-Database/blob/main/TPD.ipynb\" target=\"_parent\"><img src=\"https://colab.research.google.com/assets/colab-badge.svg\" alt=\"Open In Colab\"/></a>"
      ]
    },
    {
      "cell_type": "markdown",
      "metadata": {
        "id": "badjMslZXd8-"
      },
      "source": [
        "TRUMP PARDON'S"
      ]
    },
    {
      "cell_type": "code",
      "metadata": {
        "id": "qYQ-vnY7Xg8k"
      },
      "source": [
        "def find_names(x):\r\n",
        "  name = item[x].text\r\n",
        "  print(\"Name:        \", name)\r\n",
        "  return"
      ],
      "execution_count": 4,
      "outputs": []
    },
    {
      "cell_type": "code",
      "metadata": {
        "id": "xViHbzIwXlME"
      },
      "source": [
        "def find_district(x):\r\n",
        "  district = item[x].text\r\n",
        "  print(\"District:    \",district)\r\n",
        "  return"
      ],
      "execution_count": 3,
      "outputs": []
    },
    {
      "cell_type": "code",
      "metadata": {
        "id": "NzWI34I8Xl1w"
      },
      "source": [
        "def find_sentance(x):\r\n",
        "  sentance = item[x].text\r\n",
        "  print(\"Sentance:    \",sentance)\r\n",
        "  return"
      ],
      "execution_count": 2,
      "outputs": []
    },
    {
      "cell_type": "code",
      "metadata": {
        "id": "oQ23MHidXlxY"
      },
      "source": [
        "def find_crime(x):\r\n",
        "  crime = item[x].text\r\n",
        "  print(\"Crime:       \",crime)\r\n",
        "  return"
      ],
      "execution_count": 1,
      "outputs": []
    },
    {
      "cell_type": "code",
      "metadata": {
        "id": "P7v4BPbXXluR"
      },
      "source": [
        "\r\n",
        "import sqlite3\r\n",
        "import urllib.request, urllib.parse, urllib.error\r\n",
        "from bs4 import BeautifulSoup\r\n",
        "import ssl\r\n",
        "\r\n",
        "\r\n",
        "list1 = list()\r\n",
        "\r\n",
        "\r\n",
        "\r\n",
        "ssl._create_default_https_context = ssl._create_unverified_context\r\n",
        "url = 'https://www.justice.gov/pardon/pardons-granted-president-donald-trump'\r\n",
        "user_agent = 'Mozilla/5.0 (Windows; U; Windows NT 5.1; en-US; rv:1.9.0.7) Gecko/2009021910 Firefox/3.0.7'\r\n",
        "\r\n",
        "\r\n",
        "#url = \"https://www.yesbank.in/pdf/forexcardratesenglish_pdf\"\r\n",
        "headers={'User-Agent':user_agent,}\r\n",
        "request=urllib.request.Request(url,None,headers)\r\n",
        "\r\n",
        "\r\n",
        "#read and parse the html\r\n",
        "r = urllib.request.urlopen(request).read().decode()\r\n",
        "soup = BeautifulSoup(r, 'html.parser')\r\n",
        "\r\n",
        "\r\n",
        "#searching for the part of the site where the pardons are\r\n",
        "tags = soup.find_all('table', attrs={'summary':'This table provides information on the Number of Pardons Granted by President Trump'})\r\n",
        "\r\n",
        "\r\n",
        "# tag ~ the dates trump pardoned people and appending them to list\r\n",
        "\r\n",
        "count = 0\r\n",
        "for tag in tags:\r\n",
        "  dates = tag.find_all('tr')\r\n",
        "\r\n",
        "  for pardon in dates:\r\n",
        "    listp = pardon.find_all('td')\r\n",
        "    list1.append(listp)\r\n",
        "\r\n",
        "for item in list1:\r\n",
        "  try:\r\n",
        "    if len(item) < 1:\r\n",
        "      continue\r\n",
        "    else:\r\n",
        "      count += 1\r\n",
        "      print(\"Pardon #\",count)\r\n",
        "      find_names(0)\r\n",
        "      find_district(1)\r\n",
        "      find_sentance(2)\r\n",
        "      find_crime(3)\r\n",
        "\r\n",
        "      print('\\n')\r\n",
        "  except:\r\n",
        "    pass\r\n",
        "print('Total pardons issued by President Trump: ',count)"
      ],
      "execution_count": null,
      "outputs": []
    }
  ]
}